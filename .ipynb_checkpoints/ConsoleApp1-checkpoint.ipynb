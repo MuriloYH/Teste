{
 "cells": [
  {
   "cell_type": "code",
   "execution_count": 1,
   "metadata": {},
   "outputs": [
    {
     "name": "stdout",
     "output_type": "stream",
     "text": [
      "[2, 3, 5, 7, 11]\n",
      "duracao: 11.008199\n"
     ]
    }
   ],
   "source": [
    "import time\n",
    "import timeit\n",
    "\n",
    "def gerar_primos(limite):\n",
    "    primos = []\n",
    "    for numero in range(2, limite + 1):\n",
    "        time.sleep(1)\n",
    "        for auxiliar in range(2, numero):\n",
    "            if numero % auxiliar == 0:\n",
    "                break\n",
    "        else:\n",
    "            primos.append(numero)\n",
    "    return primos \n",
    "\n",
    "print(gerar_primos(12))\n",
    "inicio = timeit.default_timer()\n",
    "gerar_primos(12)\n",
    "fim = timeit.default_timer()\n",
    "print ('duracao: %f' % (fim - inicio))\n",
    "\n"
   ]
  },
  {
   "cell_type": "code",
   "execution_count": 2,
   "metadata": {},
   "outputs": [
    {
     "name": "stdout",
     "output_type": "stream",
     "text": [
      "thread sendo executadaAguardando thread\n",
      "\n",
      "thread sendo executada\n",
      "thread sendo executada\n",
      "thread sendo executada\n",
      "thread sendo executada\n",
      "Aguardando thread\n",
      "Thread morreu\n",
      "Finalizando programa\n"
     ]
    }
   ],
   "source": [
    "import threading\n",
    "import time\n",
    "\n",
    "def worker(message):\n",
    "    for i in range(5):\n",
    "        print(message)\n",
    "        time.sleep(1)\n",
    "        \n",
    "t = threading.Thread(target=worker,args=(\"thread sendo executada\",))\n",
    "t.start()\n",
    "\n",
    "while t.isAlive():\n",
    "    print (\"Aguardando thread\")\n",
    "    time.sleep(5)\n",
    "\n",
    "print (\"Thread morreu\")\n",
    "print (\"Finalizando programa\")"
   ]
  },
  {
   "cell_type": "code",
   "execution_count": 3,
   "metadata": {},
   "outputs": [
    {
     "name": "stdout",
     "output_type": "stream",
     "text": [
      "duracao: 4.000659\n"
     ]
    }
   ],
   "source": [
    "import time\n",
    "import timeit\n",
    "\n",
    "\n",
    "def alguma_funcao():\n",
    "    for i in range(1, 5):\n",
    "        time.sleep(1)\n",
    "\n",
    "inicio = timeit.default_timer()\n",
    "alguma_funcao()\n",
    "fim = timeit.default_timer()\n",
    "print ('duracao: %f' % (fim - inicio))"
   ]
  },
  {
   "cell_type": "code",
   "execution_count": 4,
   "metadata": {},
   "outputs": [
    {
     "data": {
      "text/plain": [
       "0"
      ]
     },
     "execution_count": 4,
     "metadata": {},
     "output_type": "execute_result"
    }
   ],
   "source": [
    "1-1"
   ]
  },
  {
   "cell_type": "code",
   "execution_count": 5,
   "metadata": {},
   "outputs": [
    {
     "name": "stdout",
     "output_type": "stream",
     "text": [
      "kkkkkkkkkk\n"
     ]
    }
   ],
   "source": [
    "print('kkkkkkkkkk')"
   ]
  },
  {
   "cell_type": "code",
   "execution_count": null,
   "metadata": {},
   "outputs": [],
   "source": [
    "deixa o like kkkkkk"
   ]
  }
 ],
 "metadata": {
  "kernelspec": {
   "display_name": "Python 3",
   "language": "python",
   "name": "python3"
  },
  "language_info": {
   "codemirror_mode": {
    "name": "ipython",
    "version": 3
   },
   "file_extension": ".py",
   "mimetype": "text/x-python",
   "name": "python",
   "nbconvert_exporter": "python",
   "pygments_lexer": "ipython3",
   "version": "3.7.4"
  }
 },
 "nbformat": 4,
 "nbformat_minor": 4
}
