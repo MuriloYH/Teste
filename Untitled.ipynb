{
 "cells": [
  {
   "cell_type": "code",
   "execution_count": 9,
   "metadata": {},
   "outputs": [
    {
     "data": {
      "text/plain": [
       "0"
      ]
     },
     "execution_count": 9,
     "metadata": {},
     "output_type": "execute_result"
    }
   ],
   "source": [
    "soma_nat = maybe(lambda n: n + soma_nat(n-1) if n > 1 else 1)\n",
    "\n",
    "assert(soma_nat(5) == 15)1-1"
   ]
  },
  {
   "cell_type": "code",
   "execution_count": 2,
   "metadata": {},
   "outputs": [
    {
     "name": "stdout",
     "output_type": "stream",
     "text": [
      "15\n"
     ]
    }
   ],
   "source": [
    "\n",
    "soma_nat = lambda n: n + soma_nat(n-1) if n > 1 else 1\n",
    "\n",
    "print(soma_nat(5))\n",
    "\n",
    "assert(soma_nat(5) == 15)"
   ]
  },
  {
   "cell_type": "code",
   "execution_count": 1,
   "metadata": {},
   "outputs": [],
   "source": [
    "def maybe(fnc):\n",
    "    def inner(*args):\n",
    "        for a in args:\n",
    "            if isinstance(a, Exception):\n",
    "                return a\n",
    "        try:\n",
    "            return fnc(*args)\n",
    "        except Exception as e:\n",
    "            return e\n",
    "    return inner"
   ]
  },
  {
   "cell_type": "code",
   "execution_count": 2,
   "metadata": {},
   "outputs": [
    {
     "name": "stdout",
     "output_type": "stream",
     "text": [
      "15\n"
     ]
    }
   ],
   "source": [
    "soma_nat = maybe(lambda n: n + soma_nat(n-1) if n > 1 else 1)\n",
    "\n",
    "print(soma_nat(5))"
   ]
  },
  {
   "cell_type": "markdown",
   "metadata": {},
   "source": [
    "Thread é a tarefa que um determinado programa realiza. Fio de execução, também conhecido como linha ou encadeamento de execução, é uma forma de um processo dividir a si mesmo em duas ou mais tarefas que podem ser executadas concorrencialmente."
   ]
  },
  {
   "cell_type": "markdown",
   "metadata": {},
   "source": [
    "Número primo é qualquer número cujo conjunto dos divisores não inversíveis não é vazio, e todos os seus elementos são produtos de por números inteiros inversíveis. "
   ]
  },
  {
   "cell_type": "markdown",
   "metadata": {},
   "source": [
    " numeros primos entre 0 até 1000:    \n",
    "2, 3, 5, 7, 11, 13, 17, 19, 23, 29, 31, 37, 41, 43, 47, 53, 59, 61, 67, 71, 73, 79, 83, 89, 97,\n",
    "101, 103, 107, 109, 113, 127, 131, 137, 139, 149, 151, 157, 163, 167, 173, 179, 181, 191, 193, 197, 199,\n",
    "211, 223, 227, 229, 233, 239, 241, 251, 257, 263, 269, 271, 277, 281, 283, 293,\n",
    "307, 311, 313, 317, 331, 337, 347, 349, 353, 359, 367, 373, 379, 383, 389, 397,\n",
    "401, 409, 419, 421, 431, 433, 439, 443, 449, 457, 461, 463, 467, 479, 487, 491, 499,\n",
    "503, 509, 521, 523, 541, 547, 557, 563, 569, 571, 577, 587, 593, 599,\n",
    "601, 607, 613, 617, 619, 631, 641, 643, 647, 653, 659, 661, 673, 677, 683, 691,\n",
    "701, 709, 719, 727, 733, 739, 743, 751, 757, 761, 769, 773, 787, 797,\n",
    "809, 811, 821, 823, 827, 829, 839, 853, 857, 859, 863, 877, 881, 883, 887,\n",
    "907, 911, 919, 929, 937, 941, 947, 953, 967, 971, 977, 983, 991, 997."
   ]
  },
  {
   "cell_type": "code",
   "execution_count": 3,
   "metadata": {},
   "outputs": [
    {
     "name": "stdout",
     "output_type": "stream",
     "text": [
      "[2, 3, 5, 7, 11]\n",
      "duracao: 11.060101\n"
     ]
    }
   ],
   "source": [
    "import time\n",
    "import timeit\n",
    "\n",
    "def gerar_primos(limite):\n",
    "    primos = []\n",
    "    for numero in range(2, limite + 1):\n",
    "        time.sleep(1)\n",
    "        for auxiliar in range(2, numero):\n",
    "            if numero % auxiliar == 0:\n",
    "                break\n",
    "        else:\n",
    "            primos.append(numero)\n",
    "    return primos \n",
    "\n",
    "print(gerar_primos(12))\n",
    "inicio = timeit.default_timer()\n",
    "gerar_primos(12)\n",
    "fim = timeit.default_timer()\n",
    "print ('duracao: %f' % (fim - inicio))"
   ]
  },
  {
   "cell_type": "code",
   "execution_count": 10,
   "metadata": {},
   "outputs": [
    {
     "name": "stdout",
     "output_type": "stream",
     "text": [
      "[2, 3, 5, 7, 11]\n",
      "duracao: 0.000865\n"
     ]
    }
   ],
   "source": [
    "import time\n",
    "import timeit\n",
    "import threading\n",
    "\n",
    "def gerar_primos(limite):\n",
    "    primos = []\n",
    "    for numero in range(2, limite + 1):\n",
    "        time.sleep(1)\n",
    "        for auxiliar in range(2, numero):\n",
    "            if numero % auxiliar == 0:\n",
    "                break\n",
    "        else:\n",
    "            primos.append(numero)\n",
    "    return primos \n",
    "\n",
    "print(gerar_primos(12))\n",
    "inicio = timeit.default_timer()\n",
    "t = threading.Thread(target=gerar_primos,args=(12,))\n",
    "t.start()\n",
    "fim = timeit.default_timer()\n",
    "print ('duracao: %f' % (fim - inicio))"
   ]
  },
  {
   "cell_type": "markdown",
   "metadata": {},
   "source": [
    "# teste de mais de uma Thread"
   ]
  },
  {
   "cell_type": "code",
   "execution_count": 5,
   "metadata": {},
   "outputs": [
    {
     "name": "stdout",
     "output_type": "stream",
     "text": [
      "[7, 11]\n",
      "duracao: 0.000708\n"
     ]
    }
   ],
   "source": [
    "import time\n",
    "import timeit\n",
    "import threading\n",
    "\n",
    "def gerar_primos(init, fim):\n",
    "    primos = []\n",
    "    for numero in range(init, fim + 1):\n",
    "        time.sleep(1)\n",
    "        for auxiliar in range(2, numero):\n",
    "            if numero % auxiliar == 0:\n",
    "                break\n",
    "        else:\n",
    "            primos.append(numero)\n",
    "    return primos \n",
    "\n",
    "print(gerar_primos(7,12))\n",
    "inicio = timeit.default_timer()\n",
    "t = threading.Thread(target=gerar_primos,args=(7,12))\n",
    "t.start()\n",
    "fim = timeit.default_timer()\n",
    "print ('duracao: %f' % (fim - inicio))"
   ]
  },
  {
   "cell_type": "code",
   "execution_count": 6,
   "metadata": {},
   "outputs": [
    {
     "name": "stdout",
     "output_type": "stream",
     "text": [
      "duracao: 0.000726\n",
      "duracao: 0.000412\n",
      "duracao: 0.000501\n",
      "duracao: 0.000449\n",
      "duracao: 0.000422\n",
      "duracao: 0.000476\n"
     ]
    }
   ],
   "source": [
    "import time\n",
    "import timeit\n",
    "import threading\n",
    "\n",
    "def gerar_primos(init, fim):\n",
    "    primos = []\n",
    "    for numero in range(init, fim + 1):\n",
    "        for auxiliar in range(2, numero):\n",
    "            if numero % auxiliar == 0:\n",
    "                break\n",
    "        else:\n",
    "            primos.append(numero)\n",
    "    return primos \n",
    "\n",
    "inicio1 = timeit.default_timer()\n",
    "t = threading.Thread(target=gerar_primos,args=(1,2))\n",
    "t.start()\n",
    "fim1 = timeit.default_timer()\n",
    "inicio2 = timeit.default_timer()\n",
    "t = threading.Thread(target=gerar_primos,args=(3,4))\n",
    "t.start()\n",
    "fim2 = timeit.default_timer()\n",
    "inicio3 = timeit.default_timer()\n",
    "t = threading.Thread(target=gerar_primos,args=(5,6))\n",
    "t.start()\n",
    "fim3 = timeit.default_timer()\n",
    "inicio4 = timeit.default_timer()\n",
    "t = threading.Thread(target=gerar_primos,args=(7,8))\n",
    "t.start()\n",
    "fim4 = timeit.default_timer()\n",
    "inicio5 = timeit.default_timer()\n",
    "t = threading.Thread(target=gerar_primos,args=(9,10))\n",
    "t.start()\n",
    "fim5 = timeit.default_timer()\n",
    "inicio6 = timeit.default_timer()\n",
    "t = threading.Thread(target=gerar_primos,args=(11,12))\n",
    "t.start()\n",
    "fim6 = timeit.default_timer()\n",
    "print ('duracao: %f' % (fim1 - inicio1))\n",
    "print ('duracao: %f' % (fim2 - inicio2))\n",
    "print ('duracao: %f' % (fim3 - inicio3))\n",
    "print ('duracao: %f' % (fim4 - inicio4))\n",
    "print ('duracao: %f' % (fim5 - inicio5))\n",
    "print ('duracao: %f' % (fim6 - inicio6))"
   ]
  },
  {
   "cell_type": "code",
   "execution_count": null,
   "metadata": {},
   "outputs": [],
   "source": [
    "import time\n",
    "import timeit\n",
    "import threading\n",
    "\n",
    "def gerar_primos(limite):\n",
    "    primos = []\n",
    "    for numero in range(2, limite + 1):\n",
    "        for auxiliar in range(2, numero):\n",
    "            if numero % auxiliar == 0:\n",
    "                break\n",
    "        else:\n",
    "            primos.append(numero)\n",
    "    return primos \n",
    "\n",
    "print(len(gerar_primos(12)))\n",
    "inicio = timeit.default_timer()\n",
    "t = threading.Thread(target=gerar_primos,args=(12,))\n",
    "t.start()\n",
    "fim = timeit.default_timer()\n",
    "print ('duracao: %f' % (fim - inicio))"
   ]
  },
  {
   "cell_type": "code",
   "execution_count": 2,
   "metadata": {},
   "outputs": [
    {
     "name": "stdout",
     "output_type": "stream",
     "text": [
      "5\n",
      "duracao: 11.004000\n"
     ]
    }
   ],
   "source": [
    "import time\n",
    "import timeit\n",
    "import threading\n",
    "\n",
    "def gerar_primos(limite):\n",
    "    primos = []\n",
    "    for numero in range(2, limite + 1):\n",
    "        for auxiliar in range(2, numero):\n",
    "            if numero % auxiliar == 0:\n",
    "                break\n",
    "        else:\n",
    "            primos.append(numero)\n",
    "    return primos \n",
    "\n",
    "def timer(fnc):\n",
    "    \n",
    "    def inner(arg):\n",
    "        \n",
    "        t0 = time.time()\n",
    "        fnc(arg)\n",
    "        t1 = time.time()\n",
    "        return t1-t0\n",
    "    \n",
    "    return inner\n",
    "\n",
    "timed_gerar_primos = timer(gerar_primos)\n",
    "\n",
    "print(len(gerar_primos(12)))\n",
    "t = threading.Thread(target=gerar_primos,args=(12,))\n",
    "t.start()\n",
    "print ('duracao: %f' % (timed_gerar_primos(12)))"
   ]
  },
  {
   "cell_type": "code",
   "execution_count": 3,
   "metadata": {},
   "outputs": [
    {
     "name": "stdout",
     "output_type": "stream",
     "text": [
      "5\n",
      "duracao: 11.006000\n"
     ]
    }
   ],
   "source": [
    "import time\n",
    "import timeit\n",
    "\n",
    "def gerar_primos(limite):\n",
    "    primos = []\n",
    "    for numero in range(2, limite + 1):\n",
    "        time.sleep(1)\n",
    "        for auxiliar in range(2, numero):\n",
    "            if numero % auxiliar == 0:\n",
    "                break\n",
    "        else:\n",
    "            primos.append(numero)\n",
    "    return primos \n",
    "\n",
    "def timer(fnc):\n",
    "    \n",
    "    def inner(arg):\n",
    "        \n",
    "        t0 = time.time()\n",
    "        fnc(arg)\n",
    "        t1 = time.time()\n",
    "        return t1-t0\n",
    "    \n",
    "    return inner\n",
    "\n",
    "timed_gerar_primos = timer(gerar_primos)\n",
    "\n",
    "print(len(gerar_primos(12)))\n",
    "print ('duracao: %f' % (timed_gerar_primos(12)))"
   ]
  },
  {
   "cell_type": "code",
   "execution_count": 5,
   "metadata": {},
   "outputs": [
    {
     "name": "stdout",
     "output_type": "stream",
     "text": [
      "duracao: 5.002000\n"
     ]
    }
   ],
   "source": [
    "import time\n",
    "import timeit\n",
    "\n",
    "def gerar_primos(limite):\n",
    "    primos = []\n",
    "    for numero in range(2, limite + 1):\n",
    "        for auxiliar in range(2, numero):\n",
    "            if numero % auxiliar == 0:\n",
    "                break\n",
    "        else:\n",
    "            primos.append(numero)\n",
    "    return primos \n",
    "\n",
    "def timer(fnc):\n",
    "    \n",
    "    def inner(arg):\n",
    "        \n",
    "        t0 = time.time()\n",
    "        fnc(arg)\n",
    "        t1 = time.time()\n",
    "        return t1-t0\n",
    "    \n",
    "    return inner\n",
    "\n",
    "timed_gerar_primos = timer(gerar_primos)\n",
    "\n",
    "print ('duracao: %f' % (timed_gerar_primos(6)))"
   ]
  },
  {
   "cell_type": "code",
   "execution_count": null,
   "metadata": {},
   "outputs": [],
   "source": [
    "1-1"
   ]
  }
 ],
 "metadata": {
  "kernelspec": {
   "display_name": "Python 3",
   "language": "python",
   "name": "python3"
  },
  "language_info": {
   "codemirror_mode": {
    "name": "ipython",
    "version": 3
   },
   "file_extension": ".py",
   "mimetype": "text/x-python",
   "name": "python",
   "nbconvert_exporter": "python",
   "pygments_lexer": "ipython3",
   "version": "3.7.4"
  }
 },
 "nbformat": 4,
 "nbformat_minor": 4
}
