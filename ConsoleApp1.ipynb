{
 "cells": [
  {
   "cell_type": "markdown",
   "metadata": {},
   "source": [
    "# Lista de numeros primos.\n",
    "\n",
    "Numeros primos entre 0 até 1000:   \n",
    "2, 3, 5, 7, 11, 13, 17, 19, 23, 29, 31, 37, 41, 43, 47, 53, 59, 61, 67, 71, 73, 79, 83, 89, 97, 101, 103, 107, 109, 113, 127, 131, 137, 139, 149, 151, 157, 163, 167, 173, 179, 181, 191, 193, 197, 199, 211, 223, 227, 229, 233, 239, 241, 251, 257, 263, 269, 271, 277, 281, 283, 293, 307, 311, 313, 317, 331, 337, 347, 349, 353, 359, 367, 373, 379, 383, 389, 397, 401, 409, 419, 421, 431, 433, 439, 443, 449, 457, 461, 463, 467, 479, 487, 491, 499, 503, 509, 521, 523, 541, 547, 557, 563, 569, 571, 577, 587, 593, 599, 601, 607, 613, 617, 619, 631, 641, 643, 647, 653, 659, 661, 673, 677, 683, 691, 701, 709, 719, 727, 733, 739, 743, 751, 757, 761, 769, 773, 787, 797, 809, 811, 821, 823, 827, 829, 839, 853, 857, 859, 863, 877, 881, 883, 887, 907, 911, 919, 929, 937, 941, 947, 953, 967, 971, 977, 983, 991, 997."
   ]
  },
  {
   "cell_type": "code",
   "execution_count": 5,
   "metadata": {},
   "outputs": [
    {
     "name": "stdout",
     "output_type": "stream",
     "text": [
      "[0, 1, 2, 3, 5, 7, 11, 13, 17, 19, 23, 29, 31, 37, 41, 43, 47, 53, 59, 61, 67, 71, 73, 79, 83, 89, 97, 101, 103, 107, 109, 113, 127, 131, 137, 139, 149, 151, 157, 163, 167, 173, 179, 181, 191, 193, 197, 199, 211, 223, 227, 229, 233, 239, 241, 251, 257, 263, 269, 271, 277, 281, 283, 293, 307, 311, 313, 317, 331, 337, 347, 349, 353, 359, 367, 373, 379, 383, 389, 397, 401, 409, 419, 421, 431, 433, 439, 443, 449, 457, 461, 463, 467, 479, 487, 491, 499, 503, 509, 521, 523, 541, 547, 557, 563, 569, 571, 577, 587, 593, 599, 601, 607, 613, 617, 619, 631, 641, 643, 647, 653, 659, 661, 673, 677, 683, 691, 701, 709, 719, 727, 733, 739, 743, 751, 757, 761, 769, 773, 787, 797, 809, 811, 821, 823, 827, 829, 839, 853, 857, 859, 863, 877, 881, 883, 887, 907, 911, 919, 929, 937, 941, 947, 953, 967, 971, 977, 983, 991, 997]\n",
      "=-=-=-=-=-=-=-=-=-=-=-=-=-=-=-=-=-=-=-=-=-=-=-=-=-=-=-=-=-=-\n",
      "O total de numeros primos é: 170\n",
      "=-=-=-=-=-=-=-=-=-=-=-=-=-=-=-=-=-=-=-=-=-=-=-=-=-=-=-=-=-=-\n",
      "duracao: 0.007244\n"
     ]
    }
   ],
   "source": [
    "import time\n",
    "import timeit\n",
    "\n",
    "class Sem_thread:\n",
    "    #função de calcular numeros primos\n",
    "    def gerar_primos(init, fim):\n",
    "        primos = []\n",
    "        for numero in range(init, fim + 1):\n",
    "            for auxiliar in range(2, numero):\n",
    "                if numero % auxiliar == 0:\n",
    "                    break\n",
    "            else:\n",
    "                primos.append(numero)\n",
    "        return primos \n",
    "\n",
    "    #Contrução das respostas:\n",
    "    print(gerar_primos(0,1000)) #gerar lista de numeros primos\n",
    "    print('=-' * 30) \n",
    "    print('O total de numeros primos é:',len(gerar_primos(0,1000))) #conta quantos numeros primos foram encontrados\n",
    "    inicio = timeit.default_timer()\n",
    "    gerar_primos(0,1000)\n",
    "    fim = timeit.default_timer()\n",
    "    print('=-' * 30)\n",
    "    print ('duracao: %f' % (fim - inicio)) #Faz o calculo de quanto tempo demorou para achar os numeros"
   ]
  },
  {
   "cell_type": "code",
   "execution_count": 6,
   "metadata": {},
   "outputs": [
    {
     "name": "stdout",
     "output_type": "stream",
     "text": [
      "[0, 1, 2, 3, 5, 7, 11, 13, 17, 19, 23, 29, 31, 37, 41, 43, 47, 53, 59, 61, 67, 71, 73, 79, 83, 89, 97, 101, 103, 107, 109, 113, 127, 131, 137, 139, 149, 151, 157, 163, 167, 173, 179, 181, 191, 193, 197, 199, 211, 223, 227, 229, 233, 239, 241, 251, 257, 263, 269, 271, 277, 281, 283, 293, 307, 311, 313, 317, 331, 337, 347, 349, 353, 359, 367, 373, 379, 383, 389, 397, 401, 409, 419, 421, 431, 433, 439, 443, 449, 457, 461, 463, 467, 479, 487, 491, 499, 503, 509, 521, 523, 541, 547, 557, 563, 569, 571, 577, 587, 593, 599, 601, 607, 613, 617, 619, 631, 641, 643, 647, 653, 659, 661, 673, 677, 683, 691, 701, 709, 719, 727, 733, 739, 743, 751, 757, 761, 769, 773, 787, 797, 809, 811, 821, 823, 827, 829, 839, 853, 857, 859, 863, 877, 881, 883, 887, 907, 911, 919, 929, 937, 941, 947, 953, 967, 971, 977, 983, 991, 997]\n",
      "=-=-=-=-=-=-=-=-=-=-=-=-=-=-=-=-=-=-=-=-=-=-=-=-=-=-=-=-=-=-\n",
      "O total de numeros primos é: 170\n",
      "=-=-=-=-=-=-=-=-=-=-=-=-=-=-=-=-=-=-=-=-=-=-=-=-=-=-=-=-=-=-\n",
      "duracao: 0.005187\n"
     ]
    }
   ],
   "source": [
    "import time\n",
    "import timeit\n",
    "import threading\n",
    "\n",
    "class Com_um_1_thread:\n",
    "    #função de calcular numeros primos\n",
    "    def gerar_primos(init, fim):\n",
    "        primos = []\n",
    "        for numero in range(init, fim + 1):\n",
    "            for auxiliar in range(2, numero):\n",
    "                if numero % auxiliar == 0:\n",
    "                    break\n",
    "            else:\n",
    "                primos.append(numero)\n",
    "        return primos \n",
    "\n",
    "    #Contrução das respostas:\n",
    "    print(gerar_primos(0,1000)) #gerar lista de numeros primos\n",
    "    print('=-' * 30) \n",
    "    print('O total de numeros primos é:',len(gerar_primos(0,1000))) #conta quantos numeros primos foram encontrados\n",
    "    inicio = timeit.default_timer()\n",
    "    # utilização de thread\n",
    "    t = threading.Thread(target=gerar_primos,args=(0,1000,)) \n",
    "    t.start()\n",
    "    fim = timeit.default_timer()\n",
    "    print('=-' * 30)\n",
    "    print ('duracao: %f' % (fim - inicio)) #Faz o calculo de quanto tempo demorou para achar os numeros"
   ]
  },
  {
   "cell_type": "code",
   "execution_count": 7,
   "metadata": {},
   "outputs": [
    {
     "name": "stdout",
     "output_type": "stream",
     "text": [
      "[0, 1, 2, 3, 5, 7, 11, 13, 17, 19, 23, 29, 31, 37, 41, 43, 47, 53, 59, 61, 67, 71, 73, 79, 83, 89, 97, 101, 103, 107, 109, 113, 127, 131, 137, 139, 149, 151, 157, 163, 167, 173, 179, 181, 191, 193, 197, 199, 211, 223, 227, 229, 233, 239, 241, 251, 257, 263, 269, 271, 277, 281, 283, 293, 307, 311, 313, 317, 331, 337, 347, 349, 353, 359, 367, 373, 379, 383, 389, 397, 401, 409, 419, 421, 431, 433, 439, 443, 449, 457, 461, 463, 467, 479, 487, 491, 499, 503, 509, 521, 523, 541, 547, 557, 563, 569, 571, 577, 587, 593, 599, 601, 607, 613, 617, 619, 631, 641, 643, 647, 653, 659, 661, 673, 677, 683, 691, 701, 709, 719, 727, 733, 739, 743, 751, 757, 761, 769, 773, 787, 797, 809, 811, 821, 823, 827, 829, 839, 853, 857, 859, 863, 877, 881, 883, 887, 907, 911, 919, 929, 937, 941, 947, 953, 967, 971, 977, 983, 991, 997]\n",
      "=-=-=-=-=-=-=-=-=-=-=-=-=-=-=-=-=-=-=-=-=-=-=-=-=-=-=-=-=-=-\n",
      "O total de numeros primos é: 170\n",
      "=-=-=-=-=-=-=-=-=-=-=-=-=-=-=-=-=-=-=-=-=-=-=-=-=-=-=-=-=-=-\n",
      "duracao do Thread 1: 0.001036\n",
      "duracao do Thread 2: 0.000770\n",
      "duracao do Thread 3: 0.000861\n",
      "duracao do Thread 4: 0.000977\n",
      "duracao do Thread 5: 0.001455\n",
      "duracao do Thread 6: 0.001318\n",
      "duracao do Thread 7: 0.001209\n",
      "duracao do Thread 8: 0.001248\n",
      "duracao do Thread 9: 0.001786\n",
      "duracao do Thread 10: 0.001500\n"
     ]
    }
   ],
   "source": [
    "import time\n",
    "import timeit\n",
    "import threading\n",
    "\n",
    "class Com_um_10_thread:\n",
    "    #função de calcular numeros primos\n",
    "    def gerar_primos(init, fim):\n",
    "        primos = []\n",
    "        for numero in range(init, fim + 1):\n",
    "            for auxiliar in range(2, numero):\n",
    "                if numero % auxiliar == 0:\n",
    "                    break\n",
    "            else:\n",
    "                primos.append(numero)\n",
    "        return primos \n",
    "\n",
    "    #Contrução das respostas:\n",
    "    print(gerar_primos(0,1000)) #gerar lista de numeros primos\n",
    "    print('=-' * 30) \n",
    "    print('O total de numeros primos é:',len(gerar_primos(0,1000))) #conta quantos numeros primos foram encontrados\n",
    "\n",
    "    # utilização de thread\n",
    "    inicio1 = timeit.default_timer()\n",
    "    t = threading.Thread(target=gerar_primos,args=(0,100))\n",
    "    t.start()\n",
    "    fim1 = timeit.default_timer()\n",
    "    inicio2 = timeit.default_timer()\n",
    "    t = threading.Thread(target=gerar_primos,args=(101,200))\n",
    "    t.start()\n",
    "    fim2 = timeit.default_timer()\n",
    "    inicio3 = timeit.default_timer()\n",
    "    t = threading.Thread(target=gerar_primos,args=(201,300))\n",
    "    t.start()\n",
    "    fim3 = timeit.default_timer()\n",
    "    inicio4 = timeit.default_timer()\n",
    "    t = threading.Thread(target=gerar_primos,args=(301,400))\n",
    "    t.start()\n",
    "    fim4 = timeit.default_timer()\n",
    "    inicio5 = timeit.default_timer()\n",
    "    t = threading.Thread(target=gerar_primos,args=(401,500))\n",
    "    t.start()\n",
    "    fim5 = timeit.default_timer()\n",
    "    inicio6 = timeit.default_timer()\n",
    "    t = threading.Thread(target=gerar_primos,args=(501,600))\n",
    "    t.start()\n",
    "    fim6 = timeit.default_timer()\n",
    "    inicio7 = timeit.default_timer()\n",
    "    t = threading.Thread(target=gerar_primos,args=(601,700))\n",
    "    t.start()\n",
    "    fim7 = timeit.default_timer()\n",
    "    inicio8 = timeit.default_timer()\n",
    "    t = threading.Thread(target=gerar_primos,args=(701,800))\n",
    "    t.start()\n",
    "    fim8 = timeit.default_timer()\n",
    "    inicio9 = timeit.default_timer()\n",
    "    t = threading.Thread(target=gerar_primos,args=(801,900))\n",
    "    t.start()\n",
    "    fim9 = timeit.default_timer()\n",
    "    inicio10 = timeit.default_timer()\n",
    "    t = threading.Thread(target=gerar_primos,args=(901,1000))\n",
    "    t.start()\n",
    "    fim10 = timeit.default_timer()\n",
    "    print('=-' * 30)\n",
    "    \n",
    "    #Fazendo os calculos de quanto tempo demorou para achar os numeros primos com \n",
    "    print ('duracao do Thread 1: %f' % (fim1 - inicio1))\n",
    "    print ('duracao do Thread 2: %f' % (fim2 - inicio2))\n",
    "    print ('duracao do Thread 3: %f' % (fim3 - inicio3))\n",
    "    print ('duracao do Thread 4: %f' % (fim4 - inicio4))\n",
    "    print ('duracao do Thread 5: %f' % (fim5 - inicio5))\n",
    "    print ('duracao do Thread 6: %f' % (fim6 - inicio6))\n",
    "    print ('duracao do Thread 7: %f' % (fim7 - inicio7))\n",
    "    print ('duracao do Thread 8: %f' % (fim8 - inicio8))\n",
    "    print ('duracao do Thread 9: %f' % (fim9 - inicio9))\n",
    "    print ('duracao do Thread 10: %f' % (fim10 - inicio10))"
   ]
  },
  {
   "cell_type": "code",
   "execution_count": null,
   "metadata": {},
   "outputs": [],
   "source": []
  }
 ],
 "metadata": {
  "kernelspec": {
   "display_name": "Python 3",
   "language": "python",
   "name": "python3"
  },
  "language_info": {
   "codemirror_mode": {
    "name": "ipython",
    "version": 3
   },
   "file_extension": ".py",
   "mimetype": "text/x-python",
   "name": "python",
   "nbconvert_exporter": "python",
   "pygments_lexer": "ipython3",
   "version": "3.7.4"
  }
 },
 "nbformat": 4,
 "nbformat_minor": 4
}
